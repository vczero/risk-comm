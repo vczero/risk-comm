{
 "cells": [
  {
   "cell_type": "code",
   "execution_count": 361,
   "id": "9bd4fd69-1319-4f1d-99f8-4663e2266d7f",
   "metadata": {},
   "outputs": [],
   "source": [
    "import pandas as pd\n",
    "from collections import Counter\n",
    "import re\n",
    "import networkx as nx\n",
    "import matplotlib.pyplot as plt"
   ]
  },
  {
   "cell_type": "code",
   "execution_count": 362,
   "id": "85c283d1-3a9f-4ae8-8129-93361d9280c9",
   "metadata": {},
   "outputs": [],
   "source": [
    "df_source = pd.read_csv('./data/source-vilidation-version.csv')\n",
    "sa340 = pd.read_csv('./data/sa340.csv')"
   ]
  },
  {
   "cell_type": "code",
   "execution_count": 364,
   "id": "c7a97b1a-207b-444e-a960-8aa39910ea4a",
   "metadata": {},
   "outputs": [],
   "source": [
    "data = []\n",
    "for i, row in df_source.iterrows():\n",
    "    city = row['city_name']\n",
    "    city_abb = sa340[sa340.name==city]['city_shortname'].tolist()[0]\n",
    "    city_2_pro = sa340[sa340.name==city]['pro_shortname'].tolist()[0]\n",
    "    gzh = sa340[sa340.name==city]['gzh'].tolist()[0]\n",
    "    org_names = row['source'].split(',')\n",
    "    new_names = []\n",
    "    for name in org_names:\n",
    "        if re.match(r\"^市\", name) and '都市' not in name:\n",
    "            n_n = name + '(' + city_abb + ')'\n",
    "            new_names.append(n_n)\n",
    "\n",
    "        elif re.match(r\"^省\", name):\n",
    "            n_n = name + '(' + city_2_pro + ')'\n",
    "            new_names.append(n_n)\n",
    "        else:\n",
    "            new_names.append(name)\n",
    "    data.append([city, gzh, ','.join(new_names), row['link']])\n",
    "\n",
    "temp = pd.DataFrame(data, columns=['city', 'gzh','source', 'link'])\n",
    "temp.to_csv('./data/gzh_citation.csv', index=None)"
   ]
  },
  {
   "cell_type": "code",
   "execution_count": 365,
   "id": "755be4c4-4a63-4c5e-824d-79f19ce65336",
   "metadata": {},
   "outputs": [],
   "source": [
    "# 构建节点和边\n",
    "def build_edges():\n",
    "    citation = pd.read_csv('./data/gzh_citation.csv')\n",
    "    edges = []\n",
    "    for i, row in citation.iterrows():\n",
    "        target_nodes = row['source'].split(',')\n",
    "        for node in target_nodes:\n",
    "            edges.append([row['city'], row['gzh'], node])\n",
    "    temp = pd.DataFrame(edges, columns=['city', 'origin', 'target'])\n",
    "    temp[\"weight\"] = temp.groupby([\"origin\", \"target\"])[\"target\"].transform(\"count\")\n",
    "    result = temp.drop_duplicates(subset=[\"origin\", \"target\"]).reset_index(drop=True)\n",
    "    result.to_csv('./data/citation_graph/_edges.csv', index=None)\n",
    "    return result\n",
    "\n",
    "edges = build_edges()"
   ]
  },
  {
   "cell_type": "code",
   "execution_count": 366,
   "id": "9128f579-0d40-48a4-aa65-f0412fd91254",
   "metadata": {},
   "outputs": [],
   "source": [
    "# 创建图\n",
    "G = nx.DiGraph()\n",
    "for i, row in edges.iterrows():\n",
    "    G.add_edge(row[\"origin\"], row[\"target\"], weight=row[\"weight\"])"
   ]
  },
  {
   "cell_type": "code",
   "execution_count": 367,
   "id": "69fd8dba-7edc-4458-a419-4bf04b6ead98",
   "metadata": {},
   "outputs": [
    {
     "name": "stdout",
     "output_type": "stream",
     "text": [
      "Edges file saved to './data/citation_graph/edges.csv'\n",
      "Nodes file saved to './data/citation_graph/nodes.csv'\n"
     ]
    }
   ],
   "source": [
    "# 按加权入度排名\n",
    "weighted_in_degree = dict(G.in_degree(weight=\"weight\"))\n",
    "weighted_in_degree_ranking = sorted(weighted_in_degree.items(), key=lambda x: x[1], reverse=True)\n",
    "top_nodes = {node for node, _ in weighted_in_degree_ranking[:10]} \n",
    "\n",
    "def build_4gephi():\n",
    "    temp = edges[[\"origin\", \"target\", \"weight\"]].rename(columns={\n",
    "        \"origin\": \"Source\",\n",
    "        \"target\": \"Target\",\n",
    "        \"weight\": \"Weight\"\n",
    "    })\n",
    "    temp.to_csv(\"./data/citation_graph/edges.csv\", index=False)\n",
    "    print(\"Edges file saved to './data/citation_graph/edges.csv'\")\n",
    "\n",
    "    nodes = pd.DataFrame(\n",
    "        pd.concat([edges[\"origin\"], edges[\"target\"]]).unique(), \n",
    "        columns=[\"Id\"]\n",
    "    )\n",
    "    # 为了保证0节点也可以可视化，则 + 1\n",
    "    nodes[\"size\"] = nodes[\"Id\"].map(weighted_in_degree) + 1\n",
    "    nodes[\"Label\"] = nodes[\"Id\"].apply(lambda x: x if x in top_nodes else \"\")\n",
    "\n",
    "    nodes.to_csv(\"./data/citation_graph/nodes.csv\", index=False)\n",
    "    print(\"Nodes file saved to './data/citation_graph/nodes.csv'\")\n",
    "\n",
    "build_4gephi()"
   ]
  },
  {
   "cell_type": "code",
   "execution_count": 368,
   "id": "41d8cfd4-c7f7-443f-a546-6f554e79e90c",
   "metadata": {},
   "outputs": [
    {
     "data": {
      "text/plain": [
       "[('中央气象台', 561),\n",
       " ('中国天气', 334),\n",
       " ('广东天气', 276),\n",
       " ('新华社', 186),\n",
       " ('应急管理部', 148),\n",
       " ('央视新闻', 136),\n",
       " ('南方+', 134),\n",
       " ('广东应急管理', 125),\n",
       " ('浙江天气', 119),\n",
       " ('江苏气象', 119)]"
      ]
     },
     "execution_count": 368,
     "metadata": {},
     "output_type": "execute_result"
    }
   ],
   "source": [
    "weighted_in_degree_ranking[:10]"
   ]
  },
  {
   "cell_type": "code",
   "execution_count": 369,
   "id": "157b2931-e969-4384-a3ef-9c25c74f8b97",
   "metadata": {},
   "outputs": [],
   "source": [
    "citation = pd.read_csv('./data/gzh_citation.csv')"
   ]
  },
  {
   "cell_type": "code",
   "execution_count": 421,
   "id": "fecfda7f-330f-49c6-8946-b1dddad8daa6",
   "metadata": {},
   "outputs": [],
   "source": [
    "def get_Level_0():\n",
    "    temp = citation\n",
    "    include_keyword = ['国', '央', '部', '新华社', '人民日报', '人民网']\n",
    "    exclude_keyword = '指挥部'\n",
    "    tt = temp[temp.source.str.contains('|'.join(include_keyword)) & ~temp['source'].str.contains(exclude_keyword)]\n",
    "    return tt"
   ]
  },
  {
   "cell_type": "code",
   "execution_count": 422,
   "id": "a041a6c8-254b-431c-ba19-e0f6b9e127e1",
   "metadata": {},
   "outputs": [],
   "source": [
    "def get_Level_1():\n",
    "    temp = citation\n",
    "    include_keyword = sa340['pro_shortname'].tolist()\n",
    "    tt = temp[temp.source.str.contains('|'.join(include_keyword))]\n",
    "    return tt"
   ]
  },
  {
   "cell_type": "code",
   "execution_count": 423,
   "id": "359ac16c-8de0-427f-acf4-d427bd63ec40",
   "metadata": {},
   "outputs": [
    {
     "name": "stdout",
     "output_type": "stream",
     "text": [
      "总引用： 7826\n",
      "国家级，部级，被引用次数： 2098\n",
      "省级被引用次数： 1693\n",
      "其他引用次数： 4035\n"
     ]
    }
   ],
   "source": [
    "def get_level_0_citation_count():\n",
    "    all_orgs = []\n",
    "    for i in citation['source'].tolist():\n",
    "        all_orgs += i.split(',')\n",
    "\n",
    "    print('总引用：', len(all_orgs))\n",
    "    level_0_keys = ['国', '央', '部', '新华社', '人民日报', '人民网', '新华']\n",
    "    level_0_count = 0\n",
    "    for o in all_orgs:\n",
    "        if any(k in o for k in level_0_keys):\n",
    "            level_0_count += 1\n",
    "    print('国家级，部级，被引用次数：', level_0_count)\n",
    "\n",
    "    level_1_keys = sa340['pro_shortname'].tolist()\n",
    "    level_1_count = 0\n",
    "    for o in all_orgs:\n",
    "        if any(k in o for k in level_1_keys):\n",
    "            level_1_count += 1\n",
    "    print('省级被引用次数：', level_1_count)\n",
    "\n",
    "    print('其他引用次数：', len(all_orgs) - level_0_count - level_1_count)\n",
    "   \n",
    "\n",
    "get_level_0_citation_count()"
   ]
  },
  {
   "cell_type": "code",
   "execution_count": 424,
   "id": "97f40331-95cd-417f-947d-0085ee6e51e4",
   "metadata": {},
   "outputs": [],
   "source": [
    "def get_count_by_keyword(word):\n",
    "    all_orgs = []\n",
    "    for i in citation['source'].tolist():\n",
    "        all_orgs += i.split(',')\n",
    "    n = 0\n",
    "    for o in all_orgs:\n",
    "        if word in o:\n",
    "            n += 1\n",
    "    return n"
   ]
  },
  {
   "cell_type": "code",
   "execution_count": 425,
   "id": "a30d8331-9b53-4fe4-aa71-3a18341dd084",
   "metadata": {},
   "outputs": [
    {
     "data": {
      "text/plain": [
       "957"
      ]
     },
     "execution_count": 425,
     "metadata": {},
     "output_type": "execute_result"
    }
   ],
   "source": [
    "get_count_by_keyword('气象台')"
   ]
  },
  {
   "cell_type": "code",
   "execution_count": 426,
   "id": "231a51e1-3191-440b-81a5-8785fd4fcf58",
   "metadata": {},
   "outputs": [
    {
     "data": {
      "text/plain": [
       "1000"
      ]
     },
     "execution_count": 426,
     "metadata": {},
     "output_type": "execute_result"
    }
   ],
   "source": [
    "get_count_by_keyword('报')"
   ]
  },
  {
   "cell_type": "code",
   "execution_count": 427,
   "id": "9bc9856d-7a1a-4f04-bd85-46d996664d4e",
   "metadata": {},
   "outputs": [
    {
     "data": {
      "text/plain": [
       "(73, 0.9327881420904677)"
      ]
     },
     "execution_count": 427,
     "metadata": {},
     "output_type": "execute_result"
    }
   ],
   "source": [
    "get_count_by_keyword('广播'), get_count_by_keyword('广播')/7826 *100"
   ]
  },
  {
   "cell_type": "code",
   "execution_count": 428,
   "id": "a24b95fa-9741-41ff-8dc3-9abf9e16877b",
   "metadata": {},
   "outputs": [
    {
     "data": {
      "text/plain": [
       "1278"
      ]
     },
     "execution_count": 428,
     "metadata": {},
     "output_type": "execute_result"
    }
   ],
   "source": [
    "get_count_by_keyword('天气')"
   ]
  },
  {
   "cell_type": "code",
   "execution_count": 429,
   "id": "0f3a97b3-0249-49fb-a0da-3f8eb56dc507",
   "metadata": {},
   "outputs": [
    {
     "data": {
      "text/plain": [
       "4518"
      ]
     },
     "execution_count": 429,
     "metadata": {},
     "output_type": "execute_result"
    }
   ],
   "source": [
    "7826 - 1278 -1000 - 957 -73"
   ]
  },
  {
   "cell_type": "code",
   "execution_count": 430,
   "id": "78879529-3c3d-4fa5-be9a-d9ae08434f90",
   "metadata": {},
   "outputs": [],
   "source": [
    "def build_4gephi_city_level(city_gzh):\n",
    "    temp = edges[[\"origin\", \"target\", \"weight\"]].rename(columns={\n",
    "        \"origin\": \"Source\",\n",
    "        \"target\": \"Target\",\n",
    "        \"weight\": \"Weight\"\n",
    "    })\n",
    "    temp = temp[temp.Source==city_gzh]\n",
    "    temp.to_csv(\"./data/citation_graph/\" + city_gzh + \"_edges.csv\", index=False)\n",
    "\n",
    "    nodes = pd.DataFrame(\n",
    "        pd.concat([temp[\"Source\"], temp[\"Target\"]]).unique(), \n",
    "        columns=[\"Id\"]\n",
    "    )\n",
    "    \n",
    "    # 为了保证0节点也可以可视化，则 + 1\n",
    "    nodes[\"size\"] = nodes[\"Id\"].map(weighted_in_degree) + 1\n",
    "    nodes[\"Label\"] = nodes[\"Id\"]\n",
    "    nodes.to_csv(\"./data/citation_graph/\" + city_gzh + \"_nodes.csv\", index=False)\n",
    "\n",
    "build_4gephi_city_level('杭州发布')"
   ]
  },
  {
   "cell_type": "code",
   "execution_count": 431,
   "id": "401ea420-9207-4138-abf3-5c7f9e566c15",
   "metadata": {},
   "outputs": [
    {
     "data": {
      "text/plain": [
       "(1800, 0.08501636711753442, 2753)"
      ]
     },
     "execution_count": 431,
     "metadata": {},
     "output_type": "execute_result"
    }
   ],
   "source": [
    "G.number_of_nodes(),nx.density(G)*100,G.number_of_edges()"
   ]
  },
  {
   "cell_type": "code",
   "execution_count": 432,
   "id": "f48bda20-6385-4c2e-a749-8a03105f0397",
   "metadata": {},
   "outputs": [
    {
     "data": {
      "text/html": [
       "<div>\n",
       "<style scoped>\n",
       "    .dataframe tbody tr th:only-of-type {\n",
       "        vertical-align: middle;\n",
       "    }\n",
       "\n",
       "    .dataframe tbody tr th {\n",
       "        vertical-align: top;\n",
       "    }\n",
       "\n",
       "    .dataframe thead th {\n",
       "        text-align: right;\n",
       "    }\n",
       "</style>\n",
       "<table border=\"1\" class=\"dataframe\">\n",
       "  <thead>\n",
       "    <tr style=\"text-align: right;\">\n",
       "      <th></th>\n",
       "      <th>Source</th>\n",
       "      <th>Target</th>\n",
       "      <th>Weight</th>\n",
       "    </tr>\n",
       "  </thead>\n",
       "  <tbody>\n",
       "    <tr>\n",
       "      <th>0</th>\n",
       "      <td>杭州发布</td>\n",
       "      <td>市气象局(杭州)</td>\n",
       "      <td>48</td>\n",
       "    </tr>\n",
       "    <tr>\n",
       "      <th>1</th>\n",
       "      <td>杭州发布</td>\n",
       "      <td>浙江天气</td>\n",
       "      <td>23</td>\n",
       "    </tr>\n",
       "    <tr>\n",
       "      <th>2</th>\n",
       "      <td>杭州发布</td>\n",
       "      <td>中央气象台</td>\n",
       "      <td>10</td>\n",
       "    </tr>\n",
       "    <tr>\n",
       "      <th>3</th>\n",
       "      <td>杭州发布</td>\n",
       "      <td>杭州日报</td>\n",
       "      <td>6</td>\n",
       "    </tr>\n",
       "    <tr>\n",
       "      <th>4</th>\n",
       "      <td>杭州发布</td>\n",
       "      <td>广州日报</td>\n",
       "      <td>1</td>\n",
       "    </tr>\n",
       "  </tbody>\n",
       "</table>\n",
       "</div>"
      ],
      "text/plain": [
       "  Source    Target  Weight\n",
       "0   杭州发布  市气象局(杭州)      48\n",
       "1   杭州发布      浙江天气      23\n",
       "2   杭州发布     中央气象台      10\n",
       "3   杭州发布      杭州日报       6\n",
       "4   杭州发布      广州日报       1"
      ]
     },
     "execution_count": 432,
     "metadata": {},
     "output_type": "execute_result"
    }
   ],
   "source": [
    "HZ = pd.read_csv('./data/citation_graph/杭州发布_edges.csv')\n",
    "HZ[:5]"
   ]
  },
  {
   "cell_type": "code",
   "execution_count": 433,
   "id": "2477f46f-fef1-4a1c-a391-0b499018a8ca",
   "metadata": {},
   "outputs": [
    {
     "data": {
      "text/plain": [
       "117"
      ]
     },
     "execution_count": 433,
     "metadata": {},
     "output_type": "execute_result"
    }
   ],
   "source": [
    "railway = edges[edges.target.str.contains('铁路')]\n",
    "railway['weight'].sum()"
   ]
  },
  {
   "cell_type": "code",
   "execution_count": null,
   "id": "5bbf9ea1-ce05-443f-a318-9c2431696802",
   "metadata": {},
   "outputs": [],
   "source": []
  }
 ],
 "metadata": {
  "kernelspec": {
   "display_name": "Python 3 (ipykernel)",
   "language": "python",
   "name": "python3"
  },
  "language_info": {
   "codemirror_mode": {
    "name": "ipython",
    "version": 3
   },
   "file_extension": ".py",
   "mimetype": "text/x-python",
   "name": "python",
   "nbconvert_exporter": "python",
   "pygments_lexer": "ipython3",
   "version": "3.12.2"
  }
 },
 "nbformat": 4,
 "nbformat_minor": 5
}
