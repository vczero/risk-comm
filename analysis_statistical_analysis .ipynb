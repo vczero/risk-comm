{
 "cells": [
  {
   "cell_type": "code",
   "execution_count": 76,
   "id": "1e76b968-dbed-40ac-b2ab-6e3ef5eab0c8",
   "metadata": {},
   "outputs": [],
   "source": [
    "import pandas as pd"
   ]
  },
  {
   "cell_type": "code",
   "execution_count": 77,
   "id": "67e81acc-1fa3-49fb-a778-1c5168465453",
   "metadata": {},
   "outputs": [],
   "source": [
    "df_typhoon = pd.read_csv('./data/typhoon.csv')"
   ]
  },
  {
   "cell_type": "code",
   "execution_count": 78,
   "id": "5e32f1f0-f2b7-40ab-9ad7-8a0a14f9b143",
   "metadata": {},
   "outputs": [
    {
     "name": "stdout",
     "output_type": "stream",
     "text": [
      "全年总阅读人次 100264468\n"
     ]
    }
   ],
   "source": [
    "total_reads = sum(df_typhoon['read_num'].tolist())\n",
    "print('全年总阅读人次', total_reads)"
   ]
  },
  {
   "cell_type": "code",
   "execution_count": 79,
   "id": "26b08af8-b2bb-4b1a-a0c4-3470bf08be5d",
   "metadata": {},
   "outputs": [],
   "source": [
    "def get_typhoon_news_all_time(CN_NAME):\n",
    "    temp = df_typhoon[df_typhoon['text'].str.contains(CN_NAME, na=False)].copy()\n",
    "    return temp"
   ]
  },
  {
   "cell_type": "markdown",
   "id": "c765c0ca-13e6-4b4e-976c-8d13256eafa6",
   "metadata": {},
   "source": [
    "# 台风新闻和其他新闻比较"
   ]
  },
  {
   "cell_type": "code",
   "execution_count": 80,
   "id": "da9554d3-3579-4fd8-9ddc-6c43c08cc915",
   "metadata": {},
   "outputs": [],
   "source": [
    "df = pd.read_csv('../citizen-attention-computing/data/study_area_data/read_num.gz')"
   ]
  },
  {
   "cell_type": "code",
   "execution_count": 81,
   "id": "98e7caef-0b47-447c-b2ad-04693a95a1fb",
   "metadata": {},
   "outputs": [],
   "source": [
    "link_list = df_typhoon['link'].tolist()\n",
    "df_filtered = df[~df['link'].isin(link_list)]"
   ]
  },
  {
   "cell_type": "markdown",
   "id": "58a14f68-ddd3-493f-9076-e805a644113f",
   "metadata": {},
   "source": [
    "## 篇均阅读数"
   ]
  },
  {
   "cell_type": "code",
   "execution_count": 82,
   "id": "d384bda2-e41e-4dab-9a15-7173994c6ed4",
   "metadata": {},
   "outputs": [
    {
     "data": {
      "text/plain": [
       "('台风新闻的平均阅读数：', 19772.129363044765)"
      ]
     },
     "execution_count": 82,
     "metadata": {},
     "output_type": "execute_result"
    }
   ],
   "source": [
    "'台风新闻的平均阅读数：', sum(df_typhoon['read_num'].tolist()) / len(df_typhoon)"
   ]
  },
  {
   "cell_type": "code",
   "execution_count": 83,
   "id": "d9a1078b-791d-4b38-bf9a-8432da3a7e69",
   "metadata": {},
   "outputs": [
    {
     "data": {
      "text/plain": [
       "('其他类别新闻阅读数', 7623.015124097763)"
      ]
     },
     "execution_count": 83,
     "metadata": {},
     "output_type": "execute_result"
    }
   ],
   "source": [
    "'其他类别新闻阅读数', sum(df_filtered['read_num'].tolist())/len(df_filtered)"
   ]
  },
  {
   "cell_type": "markdown",
   "id": "a23f4a1e-c8a5-4c94-ac17-fd4b8d04373a",
   "metadata": {},
   "source": [
    "## 篇均点赞数"
   ]
  },
  {
   "cell_type": "code",
   "execution_count": 84,
   "id": "c55e0dab-8a4e-4893-b47d-003337d914f5",
   "metadata": {},
   "outputs": [],
   "source": [
    "# old_like点赞，like是看一看"
   ]
  },
  {
   "cell_type": "code",
   "execution_count": 85,
   "id": "f58618a0-7b16-4e9a-8afc-dd4f34587e0d",
   "metadata": {},
   "outputs": [
    {
     "data": {
      "text/plain": [
       "('台风新闻的平均阅读数：', 28.65253401695918)"
      ]
     },
     "execution_count": 85,
     "metadata": {},
     "output_type": "execute_result"
    }
   ],
   "source": [
    "'台风新闻的平均阅读数：', sum(df_typhoon['old_like_num'].tolist()) / len(df_typhoon)"
   ]
  },
  {
   "cell_type": "code",
   "execution_count": 86,
   "id": "369d2e24-d57a-4bf8-9cbc-2aaeae7c195f",
   "metadata": {},
   "outputs": [
    {
     "data": {
      "text/plain": [
       "('其他类别新闻点赞数', 21.34028797175076)"
      ]
     },
     "execution_count": 86,
     "metadata": {},
     "output_type": "execute_result"
    }
   ],
   "source": [
    "'其他类别新闻点赞数', sum(df_filtered['old_like_num'].tolist())/len(df_filtered)"
   ]
  },
  {
   "cell_type": "markdown",
   "id": "a544782c-384d-4352-8639-1570540f99d2",
   "metadata": {},
   "source": [
    "## 篇均分享数"
   ]
  },
  {
   "cell_type": "code",
   "execution_count": 87,
   "id": "2eaf08f0-54b2-436a-b867-7f8d4c59e47f",
   "metadata": {},
   "outputs": [
    {
     "data": {
      "text/plain": [
       "('台风新闻的平均分享数：', 0.5213961743245908)"
      ]
     },
     "execution_count": 87,
     "metadata": {},
     "output_type": "execute_result"
    }
   ],
   "source": [
    "'台风新闻的平均分享数：', sum(df_typhoon['share_num'].tolist()) / len(df_typhoon)"
   ]
  },
  {
   "cell_type": "code",
   "execution_count": 88,
   "id": "4dbdc528-95bf-43fe-b1f7-add0e4877f77",
   "metadata": {},
   "outputs": [
    {
     "data": {
      "text/plain": [
       "('其他类别新闻分享数', 2.0215877343110527)"
      ]
     },
     "execution_count": 88,
     "metadata": {},
     "output_type": "execute_result"
    }
   ],
   "source": [
    "'其他类别新闻分享数', sum(df_filtered['share_num'].tolist())/len(df_filtered)"
   ]
  },
  {
   "cell_type": "code",
   "execution_count": null,
   "id": "5373b3b5-ee1b-41ce-a760-0875fe758589",
   "metadata": {},
   "outputs": [],
   "source": []
  },
  {
   "cell_type": "code",
   "execution_count": null,
   "id": "92989e65-e7d0-4623-9437-6384910eb43b",
   "metadata": {},
   "outputs": [],
   "source": []
  }
 ],
 "metadata": {
  "kernelspec": {
   "display_name": "Python 3 (ipykernel)",
   "language": "python",
   "name": "python3"
  },
  "language_info": {
   "codemirror_mode": {
    "name": "ipython",
    "version": 3
   },
   "file_extension": ".py",
   "mimetype": "text/x-python",
   "name": "python",
   "nbconvert_exporter": "python",
   "pygments_lexer": "ipython3",
   "version": "3.12.2"
  }
 },
 "nbformat": 4,
 "nbformat_minor": 5
}
