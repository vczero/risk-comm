{
 "cells": [
  {
   "cell_type": "code",
   "execution_count": 49,
   "id": "828f0420-a778-40ce-9fdf-624074117746",
   "metadata": {},
   "outputs": [],
   "source": [
    "import os\n",
    "\n",
    "stopwords = []\n",
    "with open('stopwords.txt', mode='r', encoding='utf-8') as file:\n",
    "    for line in file:\n",
    "        stopwords.append(line.strip())  "
   ]
  },
  {
   "cell_type": "code",
   "execution_count": 51,
   "id": "80d33cd7-59be-45df-9556-fca839bf4255",
   "metadata": {},
   "outputs": [],
   "source": [
    "from openai import OpenAI\n",
    "import pandas as pd\n",
    "from tqdm import tqdm\n",
    "\n",
    "client = OpenAI(\n",
    "    api_key='YOUR KEY', \n",
    "    base_url=\"YOUR URL\",\n",
    ")\n",
    "\n",
    "def get_label(title):\n",
    "    # 敏感词库过滤\n",
    "    for i in stopwords:\n",
    "        if i in title:\n",
    "            title = title.replace(i, '')\n",
    "    ROLE = '你是一名优秀的标注人员，十分擅长新闻文本标注。可以根据新闻标题语气进行紧急程度打分（1-3分）。3分表示特别紧急，2分表示紧急，1分表示不紧急。'\n",
    "    ROLE += '请参考下面的一些案例。'\n",
    "    ROLE += '3分的标题：珠海台风预警升级！海滨景区、沙滩浴场关闭！冷空气也来了'\n",
    "    ROLE += '2分的标题：(1) 新闻早茶｜受台风“小犬”影响，珠海交通服务有调整 (2) 对防汛救灾工作作出重要指示'\n",
    "    ROLE += '1分的标题：让全网心疼的南通老张，被认定见义勇为｜南通早七点'\n",
    "    \n",
    "    USER_CONTENT = '下面有一个标题，需要你根据标题进行打分，请直接给出打分的具体数字，不需要对结果进行任何解释。标题：' \n",
    "    USER_CONTENT += title\n",
    "\n",
    "    completion = client.chat.completions.create(\n",
    "        model=\"deepseek-v3\", \n",
    "        messages = [\n",
    "            {'role': 'system', 'content': ROLE},\n",
    "            {'role': 'user', 'content': USER_CONTENT},\n",
    "        ],\n",
    "    )\n",
    "    return completion.choices[0].message.content"
   ]
  },
  {
   "cell_type": "code",
   "execution_count": 52,
   "id": "204ccbd5-6dd5-4bc2-bc1e-4c1841ea9c07",
   "metadata": {},
   "outputs": [],
   "source": [
    "df = pd.read_csv('./data/typhoon.csv')[['title', 'read_num', 'title_len', 'date', 'link']]"
   ]
  },
  {
   "cell_type": "code",
   "execution_count": 53,
   "id": "ed957ab9-3eb1-40fb-8109-cce756225ad4",
   "metadata": {},
   "outputs": [],
   "source": []
  },
  {
   "cell_type": "code",
   "execution_count": 54,
   "id": "5dad4f39-ca00-4995-9c7d-d15c61149d7d",
   "metadata": {},
   "outputs": [
    {
     "data": {
      "text/html": [
       "<div>\n",
       "<style scoped>\n",
       "    .dataframe tbody tr th:only-of-type {\n",
       "        vertical-align: middle;\n",
       "    }\n",
       "\n",
       "    .dataframe tbody tr th {\n",
       "        vertical-align: top;\n",
       "    }\n",
       "\n",
       "    .dataframe thead th {\n",
       "        text-align: right;\n",
       "    }\n",
       "</style>\n",
       "<table border=\"1\" class=\"dataframe\">\n",
       "  <thead>\n",
       "    <tr style=\"text-align: right;\">\n",
       "      <th></th>\n",
       "      <th>title</th>\n",
       "      <th>read_num</th>\n",
       "      <th>title_len</th>\n",
       "      <th>date</th>\n",
       "      <th>link</th>\n",
       "    </tr>\n",
       "  </thead>\n",
       "  <tbody>\n",
       "    <tr>\n",
       "      <th>0</th>\n",
       "      <td>珠海台风预警升级！海滨景区、沙滩浴场关闭！冷空气也来了→</td>\n",
       "      <td>100001</td>\n",
       "      <td>28</td>\n",
       "      <td>2023-10-06 16:25:00</td>\n",
       "      <td>http://mp.weixin.qq.com/s?__biz=MzA4MjEzOTQ4Mw...</td>\n",
       "    </tr>\n",
       "    <tr>\n",
       "      <th>1</th>\n",
       "      <td>珠海台风预警生效！“小犬”\\u200b趋向广东路径有变，将在这里掠过或登陆！返程注意→</td>\n",
       "      <td>68734</td>\n",
       "      <td>43</td>\n",
       "      <td>2023-10-05 11:12:00</td>\n",
       "      <td>http://mp.weixin.qq.com/s?__biz=MzA4MjEzOTQ4Mw...</td>\n",
       "    </tr>\n",
       "    <tr>\n",
       "      <th>2</th>\n",
       "      <td>新闻早茶｜受台风“小犬”影响，珠海交通服务有调整→</td>\n",
       "      <td>46764</td>\n",
       "      <td>25</td>\n",
       "      <td>2023-10-05 07:19:00</td>\n",
       "      <td>http://mp.weixin.qq.com/s?__biz=MzA4MjEzOTQ4Mw...</td>\n",
       "    </tr>\n",
       "    <tr>\n",
       "      <th>3</th>\n",
       "      <td>抓实抓细各项措施！黄志豪研究部署台风“小犬”防御工作</td>\n",
       "      <td>13738</td>\n",
       "      <td>26</td>\n",
       "      <td>2023-10-04 21:46:00</td>\n",
       "      <td>http://mp.weixin.qq.com/s?__biz=MzA4MjEzOTQ4Mw...</td>\n",
       "    </tr>\n",
       "    <tr>\n",
       "      <th>4</th>\n",
       "      <td>“小犬”已加强为强台风级！预计影响珠海时间……假期返程注意！</td>\n",
       "      <td>100001</td>\n",
       "      <td>30</td>\n",
       "      <td>2023-10-02 20:15:00</td>\n",
       "      <td>http://mp.weixin.qq.com/s?__biz=MzA4MjEzOTQ4Mw...</td>\n",
       "    </tr>\n",
       "    <tr>\n",
       "      <th>...</th>\n",
       "      <td>...</td>\n",
       "      <td>...</td>\n",
       "      <td>...</td>\n",
       "      <td>...</td>\n",
       "      <td>...</td>\n",
       "    </tr>\n",
       "    <tr>\n",
       "      <th>5066</th>\n",
       "      <td>让全网心疼的南通老张，被认定见义勇为｜南通早七点\"</td>\n",
       "      <td>10191</td>\n",
       "      <td>25</td>\n",
       "      <td>2023-09-06 06:37:00</td>\n",
       "      <td>http://mp.weixin.qq.com/s?__biz=MzA5MjQ1MjkwNg...</td>\n",
       "    </tr>\n",
       "    <tr>\n",
       "      <th>5067</th>\n",
       "      <td>进入防风Ⅰ级应急响应！汕尾发布紧急动员令</td>\n",
       "      <td>100001</td>\n",
       "      <td>20</td>\n",
       "      <td>2023-08-31 14:45:00</td>\n",
       "      <td>http://mp.weixin.qq.com/s?__biz=MjM5MTM1NTM1MA...</td>\n",
       "    </tr>\n",
       "    <tr>\n",
       "      <th>5068</th>\n",
       "      <td>紧急通知！超强台风将经过赣州\"</td>\n",
       "      <td>100001</td>\n",
       "      <td>15</td>\n",
       "      <td>2023-07-27 11:53:00</td>\n",
       "      <td>http://mp.weixin.qq.com/s?__biz=MjM5OTc2Mzg2Mg...</td>\n",
       "    </tr>\n",
       "    <tr>\n",
       "      <th>5069</th>\n",
       "      <td>习近平对防汛救灾工作作出重要指示\"</td>\n",
       "      <td>183</td>\n",
       "      <td>17</td>\n",
       "      <td>2023-08-02 16:23:00</td>\n",
       "      <td>http://mp.weixin.qq.com/s?__biz=MzI0NjE4MDU3Nw...</td>\n",
       "    </tr>\n",
       "    <tr>\n",
       "      <th>5070</th>\n",
       "      <td>乌海市启动防汛Ⅳ级应急响应</td>\n",
       "      <td>268</td>\n",
       "      <td>13</td>\n",
       "      <td>2023-08-10 18:07:00</td>\n",
       "      <td>http://mp.weixin.qq.com/s?__biz=MjM5NjgyOTc2NQ...</td>\n",
       "    </tr>\n",
       "  </tbody>\n",
       "</table>\n",
       "<p>5071 rows × 5 columns</p>\n",
       "</div>"
      ],
      "text/plain": [
       "                                            title  read_num  title_len  \\\n",
       "0                    珠海台风预警升级！海滨景区、沙滩浴场关闭！冷空气也来了→    100001         28   \n",
       "1     珠海台风预警生效！“小犬”\\u200b趋向广东路径有变，将在这里掠过或登陆！返程注意→     68734         43   \n",
       "2                       新闻早茶｜受台风“小犬”影响，珠海交通服务有调整→     46764         25   \n",
       "3                      抓实抓细各项措施！黄志豪研究部署台风“小犬”防御工作     13738         26   \n",
       "4                  “小犬”已加强为强台风级！预计影响珠海时间……假期返程注意！    100001         30   \n",
       "...                                           ...       ...        ...   \n",
       "5066                    让全网心疼的南通老张，被认定见义勇为｜南通早七点\"     10191         25   \n",
       "5067                         进入防风Ⅰ级应急响应！汕尾发布紧急动员令    100001         20   \n",
       "5068                              紧急通知！超强台风将经过赣州\"    100001         15   \n",
       "5069                            习近平对防汛救灾工作作出重要指示\"       183         17   \n",
       "5070                                乌海市启动防汛Ⅳ级应急响应       268         13   \n",
       "\n",
       "                     date                                               link  \n",
       "0     2023-10-06 16:25:00  http://mp.weixin.qq.com/s?__biz=MzA4MjEzOTQ4Mw...  \n",
       "1     2023-10-05 11:12:00  http://mp.weixin.qq.com/s?__biz=MzA4MjEzOTQ4Mw...  \n",
       "2     2023-10-05 07:19:00  http://mp.weixin.qq.com/s?__biz=MzA4MjEzOTQ4Mw...  \n",
       "3     2023-10-04 21:46:00  http://mp.weixin.qq.com/s?__biz=MzA4MjEzOTQ4Mw...  \n",
       "4     2023-10-02 20:15:00  http://mp.weixin.qq.com/s?__biz=MzA4MjEzOTQ4Mw...  \n",
       "...                   ...                                                ...  \n",
       "5066  2023-09-06 06:37:00  http://mp.weixin.qq.com/s?__biz=MzA5MjQ1MjkwNg...  \n",
       "5067  2023-08-31 14:45:00  http://mp.weixin.qq.com/s?__biz=MjM5MTM1NTM1MA...  \n",
       "5068  2023-07-27 11:53:00  http://mp.weixin.qq.com/s?__biz=MjM5OTc2Mzg2Mg...  \n",
       "5069  2023-08-02 16:23:00  http://mp.weixin.qq.com/s?__biz=MzI0NjE4MDU3Nw...  \n",
       "5070  2023-08-10 18:07:00  http://mp.weixin.qq.com/s?__biz=MjM5NjgyOTc2NQ...  \n",
       "\n",
       "[5071 rows x 5 columns]"
      ]
     },
     "execution_count": 54,
     "metadata": {},
     "output_type": "execute_result"
    }
   ],
   "source": [
    "df"
   ]
  },
  {
   "cell_type": "code",
   "execution_count": 55,
   "id": "71cc6502-f604-4d10-bd79-0154472f4b9d",
   "metadata": {},
   "outputs": [
    {
     "name": "stderr",
     "output_type": "stream",
     "text": [
      "100%|███████████████████████████████████████████████████| 5071/5071 [28:09<00:00,  3.00it/s]\n"
     ]
    }
   ],
   "source": [
    "for i, r in tqdm(df.iterrows(), total=len(df)):\n",
    "    if i >= 3439:\n",
    "        emergency = get_label(r['title'])\n",
    "        row = [r['link'], emergency]\n",
    "        pd.DataFrame([row]).to_csv('./data/title_emergency.csv', index=None, mode='a', header=None)"
   ]
  },
  {
   "cell_type": "markdown",
   "id": "48794d59-5aec-4e47-95f7-981f441c9009",
   "metadata": {},
   "source": [
    "# 合并数据"
   ]
  },
  {
   "cell_type": "code",
   "execution_count": 56,
   "id": "baf81dd1-2c96-488e-9cd6-ca0b8cc64257",
   "metadata": {},
   "outputs": [
    {
     "data": {
      "text/html": [
       "<div>\n",
       "<style scoped>\n",
       "    .dataframe tbody tr th:only-of-type {\n",
       "        vertical-align: middle;\n",
       "    }\n",
       "\n",
       "    .dataframe tbody tr th {\n",
       "        vertical-align: top;\n",
       "    }\n",
       "\n",
       "    .dataframe thead th {\n",
       "        text-align: right;\n",
       "    }\n",
       "</style>\n",
       "<table border=\"1\" class=\"dataframe\">\n",
       "  <thead>\n",
       "    <tr style=\"text-align: right;\">\n",
       "      <th></th>\n",
       "      <th>link</th>\n",
       "      <th>em_label</th>\n",
       "    </tr>\n",
       "  </thead>\n",
       "  <tbody>\n",
       "    <tr>\n",
       "      <th>0</th>\n",
       "      <td>http://mp.weixin.qq.com/s?__biz=MzA4MjEzOTQ4Mw...</td>\n",
       "      <td>3</td>\n",
       "    </tr>\n",
       "    <tr>\n",
       "      <th>1</th>\n",
       "      <td>http://mp.weixin.qq.com/s?__biz=MzA4MjEzOTQ4Mw...</td>\n",
       "      <td>3</td>\n",
       "    </tr>\n",
       "    <tr>\n",
       "      <th>2</th>\n",
       "      <td>http://mp.weixin.qq.com/s?__biz=MzA4MjEzOTQ4Mw...</td>\n",
       "      <td>2</td>\n",
       "    </tr>\n",
       "    <tr>\n",
       "      <th>3</th>\n",
       "      <td>http://mp.weixin.qq.com/s?__biz=MzA4MjEzOTQ4Mw...</td>\n",
       "      <td>2</td>\n",
       "    </tr>\n",
       "    <tr>\n",
       "      <th>4</th>\n",
       "      <td>http://mp.weixin.qq.com/s?__biz=MzA4MjEzOTQ4Mw...</td>\n",
       "      <td>3</td>\n",
       "    </tr>\n",
       "    <tr>\n",
       "      <th>...</th>\n",
       "      <td>...</td>\n",
       "      <td>...</td>\n",
       "    </tr>\n",
       "    <tr>\n",
       "      <th>5066</th>\n",
       "      <td>http://mp.weixin.qq.com/s?__biz=MzA5MjQ1MjkwNg...</td>\n",
       "      <td>1</td>\n",
       "    </tr>\n",
       "    <tr>\n",
       "      <th>5067</th>\n",
       "      <td>http://mp.weixin.qq.com/s?__biz=MjM5MTM1NTM1MA...</td>\n",
       "      <td>3</td>\n",
       "    </tr>\n",
       "    <tr>\n",
       "      <th>5068</th>\n",
       "      <td>http://mp.weixin.qq.com/s?__biz=MjM5OTc2Mzg2Mg...</td>\n",
       "      <td>3</td>\n",
       "    </tr>\n",
       "    <tr>\n",
       "      <th>5069</th>\n",
       "      <td>http://mp.weixin.qq.com/s?__biz=MzI0NjE4MDU3Nw...</td>\n",
       "      <td>2</td>\n",
       "    </tr>\n",
       "    <tr>\n",
       "      <th>5070</th>\n",
       "      <td>http://mp.weixin.qq.com/s?__biz=MjM5NjgyOTc2NQ...</td>\n",
       "      <td>3</td>\n",
       "    </tr>\n",
       "  </tbody>\n",
       "</table>\n",
       "<p>5071 rows × 2 columns</p>\n",
       "</div>"
      ],
      "text/plain": [
       "                                                   link em_label\n",
       "0     http://mp.weixin.qq.com/s?__biz=MzA4MjEzOTQ4Mw...        3\n",
       "1     http://mp.weixin.qq.com/s?__biz=MzA4MjEzOTQ4Mw...        3\n",
       "2     http://mp.weixin.qq.com/s?__biz=MzA4MjEzOTQ4Mw...        2\n",
       "3     http://mp.weixin.qq.com/s?__biz=MzA4MjEzOTQ4Mw...        2\n",
       "4     http://mp.weixin.qq.com/s?__biz=MzA4MjEzOTQ4Mw...        3\n",
       "...                                                 ...      ...\n",
       "5066  http://mp.weixin.qq.com/s?__biz=MzA5MjQ1MjkwNg...        1\n",
       "5067  http://mp.weixin.qq.com/s?__biz=MjM5MTM1NTM1MA...        3\n",
       "5068  http://mp.weixin.qq.com/s?__biz=MjM5OTc2Mzg2Mg...        3\n",
       "5069  http://mp.weixin.qq.com/s?__biz=MzI0NjE4MDU3Nw...        2\n",
       "5070  http://mp.weixin.qq.com/s?__biz=MjM5NjgyOTc2NQ...        3\n",
       "\n",
       "[5071 rows x 2 columns]"
      ]
     },
     "execution_count": 56,
     "metadata": {},
     "output_type": "execute_result"
    }
   ],
   "source": [
    "df_em = pd.read_csv('./data/title_emergency.csv', names=['link', 'em_label'])\n",
    "df_em = df_em.drop_duplicates(subset='link')\n",
    "df_em"
   ]
  },
  {
   "cell_type": "code",
   "execution_count": 58,
   "id": "7a13d351-de10-4ffe-83e6-8f846a193c2d",
   "metadata": {},
   "outputs": [
    {
     "data": {
      "text/plain": [
       "{'1', '2', '2分', '3', '3分'}"
      ]
     },
     "execution_count": 58,
     "metadata": {},
     "output_type": "execute_result"
    }
   ],
   "source": [
    "set(df_em['em_label'])"
   ]
  },
  {
   "cell_type": "code",
   "execution_count": 60,
   "id": "55df00e2-3383-4fdd-ae44-00ee347368c0",
   "metadata": {},
   "outputs": [],
   "source": [
    "# 格式化数据，2分=>2， 3分=>3\n",
    "df_em['em_label'] = df_em['em_label'].str.replace('分', '', regex=False)"
   ]
  },
  {
   "cell_type": "code",
   "execution_count": 62,
   "id": "338f26b0-aa28-4182-b45d-b3650c8c686c",
   "metadata": {},
   "outputs": [],
   "source": [
    "new_df = pd.merge(df, df_em, on='link')"
   ]
  },
  {
   "cell_type": "code",
   "execution_count": 65,
   "id": "9c394415-3e4f-486d-a23b-908c40e49b9b",
   "metadata": {},
   "outputs": [],
   "source": [
    "df_em.to_csv('./data/title_emergency.csv', index=None, header=None)"
   ]
  },
  {
   "cell_type": "code",
   "execution_count": null,
   "id": "dfdf131c-f73d-46b2-8515-88d6cad17cf6",
   "metadata": {},
   "outputs": [],
   "source": []
  }
 ],
 "metadata": {
  "kernelspec": {
   "display_name": "Python 3 (ipykernel)",
   "language": "python",
   "name": "python3"
  },
  "language_info": {
   "codemirror_mode": {
    "name": "ipython",
    "version": 3
   },
   "file_extension": ".py",
   "mimetype": "text/x-python",
   "name": "python",
   "nbconvert_exporter": "python",
   "pygments_lexer": "ipython3",
   "version": "3.12.2"
  }
 },
 "nbformat": 4,
 "nbformat_minor": 5
}
