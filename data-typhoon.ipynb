{
 "cells": [
  {
   "cell_type": "code",
   "execution_count": 32,
   "id": "2b781016-f6fc-46b7-b575-c35180faa69e",
   "metadata": {},
   "outputs": [],
   "source": [
    "import pandas as pd"
   ]
  },
  {
   "cell_type": "code",
   "execution_count": 46,
   "id": "03c2e2f2-d4cd-4341-859d-d27c2b3368c2",
   "metadata": {},
   "outputs": [],
   "source": [
    "df = pd.read_csv('./data/data-all.csv')"
   ]
  },
  {
   "cell_type": "code",
   "execution_count": 48,
   "id": "2f4c0a4d-c54b-4fa9-b448-8f8a887be254",
   "metadata": {},
   "outputs": [],
   "source": [
    "# 检索台风新闻\n",
    "result = df[df['text'].str.contains('台风', na=False)].copy()\n",
    "\n",
    "# 标题的长度\n",
    "title_lens = []\n",
    "for i in result['title']:\n",
    "    title_lens.append(len(i))\n",
    "\n",
    "result['title_len'] = title_lens\n",
    "\n",
    "# 文本的长度\n",
    "text_lens = []\n",
    "for i in result['text']:\n",
    "    text_lens.append(len(i))\n",
    "\n",
    "result['text_len'] = text_lens\n",
    "\n",
    "# \n",
    "clickbait = pd.read_csv('../citizen-attention-computing/code-clickbait-model/pre_result/result_clickbait.gz')\n",
    "clickbait['is_cb'] = clickbait['label']\n",
    "del clickbait['label']\n",
    "temp = pd.merge(result, clickbait, on='link')"
   ]
  },
  {
   "cell_type": "code",
   "execution_count": 50,
   "id": "86aaa49f-aed7-4a4a-9f84-f174eb9a2336",
   "metadata": {},
   "outputs": [],
   "source": [
    "temp.to_csv('./data/typhoon.csv', index=None)"
   ]
  },
  {
   "cell_type": "code",
   "execution_count": 51,
   "id": "8a816f3a-3fff-44c0-9bfa-cef57566e3f0",
   "metadata": {},
   "outputs": [
    {
     "data": {
      "text/plain": [
       "5071"
      ]
     },
     "execution_count": 51,
     "metadata": {},
     "output_type": "execute_result"
    }
   ],
   "source": [
    "len(temp)"
   ]
  },
  {
   "cell_type": "code",
   "execution_count": 63,
   "id": "ec873332-3c93-4e7e-bfb4-8aba33a1b555",
   "metadata": {},
   "outputs": [
    {
     "data": {
      "text/plain": [
       "237"
      ]
     },
     "execution_count": 63,
     "metadata": {},
     "output_type": "execute_result"
    }
   ],
   "source": [
    "len(list(set(temp['city_name'])))"
   ]
  },
  {
   "cell_type": "code",
   "execution_count": null,
   "id": "1a719abe-1069-426d-8ae3-21338ebbd3b7",
   "metadata": {},
   "outputs": [],
   "source": []
  }
 ],
 "metadata": {
  "kernelspec": {
   "display_name": "Python 3 (ipykernel)",
   "language": "python",
   "name": "python3"
  },
  "language_info": {
   "codemirror_mode": {
    "name": "ipython",
    "version": 3
   },
   "file_extension": ".py",
   "mimetype": "text/x-python",
   "name": "python",
   "nbconvert_exporter": "python",
   "pygments_lexer": "ipython3",
   "version": "3.12.2"
  }
 },
 "nbformat": 4,
 "nbformat_minor": 5
}
