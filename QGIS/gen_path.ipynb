{
 "cells": [
  {
   "cell_type": "code",
   "execution_count": 6,
   "id": "accfcf8e-4939-48c2-9b13-768012f3585e",
   "metadata": {},
   "outputs": [],
   "source": [
    "import pandas as pd\n",
    "import datetime\n",
    "import os"
   ]
  },
  {
   "cell_type": "code",
   "execution_count": 7,
   "id": "563c4a59-969a-4526-a577-6c47cfc739e4",
   "metadata": {},
   "outputs": [],
   "source": [
    "file_list = os.listdir('./typhoon/')"
   ]
  },
  {
   "cell_type": "code",
   "execution_count": 8,
   "id": "2a635ef8-84d9-4061-aa83-5ad03c9c1314",
   "metadata": {},
   "outputs": [
    {
     "data": {
      "text/plain": [
       "['LAN.json',\n",
       " 'KIROGI.json',\n",
       " 'MAWAR.json',\n",
       " 'HAIKUI.json',\n",
       " 'YUN-YEUNG.json',\n",
       " 'DAMREY.json',\n",
       " 'SANVU.json',\n",
       " 'NESAT.json',\n",
       " 'HAITANG.json',\n",
       " 'SONCA.json',\n",
       " 'KOINU.json',\n",
       " 'NALGAE.json',\n",
       " 'BANYAN.json',\n",
       " 'TALIM.json',\n",
       " 'DORA.json',\n",
       " 'DOKSURI.json',\n",
       " 'PAKHAR.json',\n",
       " 'GUCHOL.json',\n",
       " 'YAMANEKO.json',\n",
       " 'BOLAVEN.json',\n",
       " '.ipynb_checkpoints',\n",
       " 'SAOLA.json',\n",
       " 'KHANUN.json']"
      ]
     },
     "execution_count": 8,
     "metadata": {},
     "output_type": "execute_result"
    }
   ],
   "source": [
    "file_list"
   ]
  },
  {
   "cell_type": "code",
   "execution_count": 9,
   "id": "ed57f7c9-ed4a-4117-bbf6-0e00811794b6",
   "metadata": {},
   "outputs": [],
   "source": [
    "def extract_date(date_string):\n",
    "    timestamp = int(date_string.replace('/Date(', '').replace(')/', ''))\n",
    "    return datetime.datetime.utcfromtimestamp(timestamp / 1000)\n",
    "\n",
    "def trans(file_name):\n",
    "    df = pd.read_json('./typhoon/' + file_name + '.json')\n",
    "\n",
    "    df['PARSED_DATE'] = df['ISSUEDATE'].apply(extract_date)\n",
    "    df['ENGLISH_DATE'] = df['PARSED_DATE'].dt.strftime('%B %d, %Y %H:%M').fillna(\"Invalid Date\")\n",
    "\n",
    "    df.to_csv('./typhoon_4QGIS/' + file_name + '.csv', index=None)"
   ]
  },
  {
   "cell_type": "code",
   "execution_count": 10,
   "id": "05789336-6209-40fa-b887-7043323c6769",
   "metadata": {},
   "outputs": [
    {
     "name": "stderr",
     "output_type": "stream",
     "text": [
      "/var/folders/p9/cl5b6dld6ss75rd9r5_0snd80000gn/T/ipykernel_1791/2321013477.py:3: DeprecationWarning: datetime.datetime.utcfromtimestamp() is deprecated and scheduled for removal in a future version. Use timezone-aware objects to represent datetimes in UTC: datetime.datetime.fromtimestamp(timestamp, datetime.UTC).\n",
      "  return datetime.datetime.utcfromtimestamp(timestamp / 1000)\n",
      "/var/folders/p9/cl5b6dld6ss75rd9r5_0snd80000gn/T/ipykernel_1791/2321013477.py:3: DeprecationWarning: datetime.datetime.utcfromtimestamp() is deprecated and scheduled for removal in a future version. Use timezone-aware objects to represent datetimes in UTC: datetime.datetime.fromtimestamp(timestamp, datetime.UTC).\n",
      "  return datetime.datetime.utcfromtimestamp(timestamp / 1000)\n",
      "/var/folders/p9/cl5b6dld6ss75rd9r5_0snd80000gn/T/ipykernel_1791/2321013477.py:3: DeprecationWarning: datetime.datetime.utcfromtimestamp() is deprecated and scheduled for removal in a future version. Use timezone-aware objects to represent datetimes in UTC: datetime.datetime.fromtimestamp(timestamp, datetime.UTC).\n",
      "  return datetime.datetime.utcfromtimestamp(timestamp / 1000)\n",
      "/var/folders/p9/cl5b6dld6ss75rd9r5_0snd80000gn/T/ipykernel_1791/2321013477.py:3: DeprecationWarning: datetime.datetime.utcfromtimestamp() is deprecated and scheduled for removal in a future version. Use timezone-aware objects to represent datetimes in UTC: datetime.datetime.fromtimestamp(timestamp, datetime.UTC).\n",
      "  return datetime.datetime.utcfromtimestamp(timestamp / 1000)\n",
      "/var/folders/p9/cl5b6dld6ss75rd9r5_0snd80000gn/T/ipykernel_1791/2321013477.py:3: DeprecationWarning: datetime.datetime.utcfromtimestamp() is deprecated and scheduled for removal in a future version. Use timezone-aware objects to represent datetimes in UTC: datetime.datetime.fromtimestamp(timestamp, datetime.UTC).\n",
      "  return datetime.datetime.utcfromtimestamp(timestamp / 1000)\n",
      "/var/folders/p9/cl5b6dld6ss75rd9r5_0snd80000gn/T/ipykernel_1791/2321013477.py:3: DeprecationWarning: datetime.datetime.utcfromtimestamp() is deprecated and scheduled for removal in a future version. Use timezone-aware objects to represent datetimes in UTC: datetime.datetime.fromtimestamp(timestamp, datetime.UTC).\n",
      "  return datetime.datetime.utcfromtimestamp(timestamp / 1000)\n",
      "/var/folders/p9/cl5b6dld6ss75rd9r5_0snd80000gn/T/ipykernel_1791/2321013477.py:3: DeprecationWarning: datetime.datetime.utcfromtimestamp() is deprecated and scheduled for removal in a future version. Use timezone-aware objects to represent datetimes in UTC: datetime.datetime.fromtimestamp(timestamp, datetime.UTC).\n",
      "  return datetime.datetime.utcfromtimestamp(timestamp / 1000)\n",
      "/var/folders/p9/cl5b6dld6ss75rd9r5_0snd80000gn/T/ipykernel_1791/2321013477.py:3: DeprecationWarning: datetime.datetime.utcfromtimestamp() is deprecated and scheduled for removal in a future version. Use timezone-aware objects to represent datetimes in UTC: datetime.datetime.fromtimestamp(timestamp, datetime.UTC).\n",
      "  return datetime.datetime.utcfromtimestamp(timestamp / 1000)\n",
      "/var/folders/p9/cl5b6dld6ss75rd9r5_0snd80000gn/T/ipykernel_1791/2321013477.py:3: DeprecationWarning: datetime.datetime.utcfromtimestamp() is deprecated and scheduled for removal in a future version. Use timezone-aware objects to represent datetimes in UTC: datetime.datetime.fromtimestamp(timestamp, datetime.UTC).\n",
      "  return datetime.datetime.utcfromtimestamp(timestamp / 1000)\n",
      "/var/folders/p9/cl5b6dld6ss75rd9r5_0snd80000gn/T/ipykernel_1791/2321013477.py:3: DeprecationWarning: datetime.datetime.utcfromtimestamp() is deprecated and scheduled for removal in a future version. Use timezone-aware objects to represent datetimes in UTC: datetime.datetime.fromtimestamp(timestamp, datetime.UTC).\n",
      "  return datetime.datetime.utcfromtimestamp(timestamp / 1000)\n",
      "/var/folders/p9/cl5b6dld6ss75rd9r5_0snd80000gn/T/ipykernel_1791/2321013477.py:3: DeprecationWarning: datetime.datetime.utcfromtimestamp() is deprecated and scheduled for removal in a future version. Use timezone-aware objects to represent datetimes in UTC: datetime.datetime.fromtimestamp(timestamp, datetime.UTC).\n",
      "  return datetime.datetime.utcfromtimestamp(timestamp / 1000)\n",
      "/var/folders/p9/cl5b6dld6ss75rd9r5_0snd80000gn/T/ipykernel_1791/2321013477.py:3: DeprecationWarning: datetime.datetime.utcfromtimestamp() is deprecated and scheduled for removal in a future version. Use timezone-aware objects to represent datetimes in UTC: datetime.datetime.fromtimestamp(timestamp, datetime.UTC).\n",
      "  return datetime.datetime.utcfromtimestamp(timestamp / 1000)\n",
      "/var/folders/p9/cl5b6dld6ss75rd9r5_0snd80000gn/T/ipykernel_1791/2321013477.py:3: DeprecationWarning: datetime.datetime.utcfromtimestamp() is deprecated and scheduled for removal in a future version. Use timezone-aware objects to represent datetimes in UTC: datetime.datetime.fromtimestamp(timestamp, datetime.UTC).\n",
      "  return datetime.datetime.utcfromtimestamp(timestamp / 1000)\n",
      "/var/folders/p9/cl5b6dld6ss75rd9r5_0snd80000gn/T/ipykernel_1791/2321013477.py:3: DeprecationWarning: datetime.datetime.utcfromtimestamp() is deprecated and scheduled for removal in a future version. Use timezone-aware objects to represent datetimes in UTC: datetime.datetime.fromtimestamp(timestamp, datetime.UTC).\n",
      "  return datetime.datetime.utcfromtimestamp(timestamp / 1000)\n",
      "/var/folders/p9/cl5b6dld6ss75rd9r5_0snd80000gn/T/ipykernel_1791/2321013477.py:3: DeprecationWarning: datetime.datetime.utcfromtimestamp() is deprecated and scheduled for removal in a future version. Use timezone-aware objects to represent datetimes in UTC: datetime.datetime.fromtimestamp(timestamp, datetime.UTC).\n",
      "  return datetime.datetime.utcfromtimestamp(timestamp / 1000)\n",
      "/var/folders/p9/cl5b6dld6ss75rd9r5_0snd80000gn/T/ipykernel_1791/2321013477.py:3: DeprecationWarning: datetime.datetime.utcfromtimestamp() is deprecated and scheduled for removal in a future version. Use timezone-aware objects to represent datetimes in UTC: datetime.datetime.fromtimestamp(timestamp, datetime.UTC).\n",
      "  return datetime.datetime.utcfromtimestamp(timestamp / 1000)\n",
      "/var/folders/p9/cl5b6dld6ss75rd9r5_0snd80000gn/T/ipykernel_1791/2321013477.py:3: DeprecationWarning: datetime.datetime.utcfromtimestamp() is deprecated and scheduled for removal in a future version. Use timezone-aware objects to represent datetimes in UTC: datetime.datetime.fromtimestamp(timestamp, datetime.UTC).\n",
      "  return datetime.datetime.utcfromtimestamp(timestamp / 1000)\n",
      "/var/folders/p9/cl5b6dld6ss75rd9r5_0snd80000gn/T/ipykernel_1791/2321013477.py:3: DeprecationWarning: datetime.datetime.utcfromtimestamp() is deprecated and scheduled for removal in a future version. Use timezone-aware objects to represent datetimes in UTC: datetime.datetime.fromtimestamp(timestamp, datetime.UTC).\n",
      "  return datetime.datetime.utcfromtimestamp(timestamp / 1000)\n",
      "/var/folders/p9/cl5b6dld6ss75rd9r5_0snd80000gn/T/ipykernel_1791/2321013477.py:3: DeprecationWarning: datetime.datetime.utcfromtimestamp() is deprecated and scheduled for removal in a future version. Use timezone-aware objects to represent datetimes in UTC: datetime.datetime.fromtimestamp(timestamp, datetime.UTC).\n",
      "  return datetime.datetime.utcfromtimestamp(timestamp / 1000)\n",
      "/var/folders/p9/cl5b6dld6ss75rd9r5_0snd80000gn/T/ipykernel_1791/2321013477.py:3: DeprecationWarning: datetime.datetime.utcfromtimestamp() is deprecated and scheduled for removal in a future version. Use timezone-aware objects to represent datetimes in UTC: datetime.datetime.fromtimestamp(timestamp, datetime.UTC).\n",
      "  return datetime.datetime.utcfromtimestamp(timestamp / 1000)\n",
      "/var/folders/p9/cl5b6dld6ss75rd9r5_0snd80000gn/T/ipykernel_1791/2321013477.py:3: DeprecationWarning: datetime.datetime.utcfromtimestamp() is deprecated and scheduled for removal in a future version. Use timezone-aware objects to represent datetimes in UTC: datetime.datetime.fromtimestamp(timestamp, datetime.UTC).\n",
      "  return datetime.datetime.utcfromtimestamp(timestamp / 1000)\n",
      "/var/folders/p9/cl5b6dld6ss75rd9r5_0snd80000gn/T/ipykernel_1791/2321013477.py:3: DeprecationWarning: datetime.datetime.utcfromtimestamp() is deprecated and scheduled for removal in a future version. Use timezone-aware objects to represent datetimes in UTC: datetime.datetime.fromtimestamp(timestamp, datetime.UTC).\n",
      "  return datetime.datetime.utcfromtimestamp(timestamp / 1000)\n"
     ]
    }
   ],
   "source": [
    "for i in file_list:\n",
    "    if '.json' in i:\n",
    "        path = i.replace('.json', '')\n",
    "        trans(path)"
   ]
  },
  {
   "cell_type": "code",
   "execution_count": null,
   "id": "485c51e7-4381-468a-ad31-b4b92448566b",
   "metadata": {},
   "outputs": [],
   "source": []
  }
 ],
 "metadata": {
  "kernelspec": {
   "display_name": "Python 3 (ipykernel)",
   "language": "python",
   "name": "python3"
  },
  "language_info": {
   "codemirror_mode": {
    "name": "ipython",
    "version": 3
   },
   "file_extension": ".py",
   "mimetype": "text/x-python",
   "name": "python",
   "nbconvert_exporter": "python",
   "pygments_lexer": "ipython3",
   "version": "3.12.2"
  }
 },
 "nbformat": 4,
 "nbformat_minor": 5
}
